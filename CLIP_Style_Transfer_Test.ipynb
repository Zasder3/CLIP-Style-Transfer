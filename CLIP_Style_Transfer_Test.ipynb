{
  "nbformat": 4,
  "nbformat_minor": 0,
  "metadata": {
    "colab": {
      "name": "CLIP Style Transfer Test.ipynb",
      "provenance": [],
      "toc_visible": true
    },
    "kernelspec": {
      "name": "python3",
      "display_name": "Python 3"
    },
    "accelerator": "GPU",
    "widgets": {
      "application/vnd.jupyter.widget-state+json": {
        "97de81d374ec4c9d9aa2bb1d8f5e02af": {
          "model_module": "@jupyter-widgets/controls",
          "model_name": "HBoxModel",
          "state": {
            "_view_name": "HBoxView",
            "_dom_classes": [],
            "_model_name": "HBoxModel",
            "_view_module": "@jupyter-widgets/controls",
            "_model_module_version": "1.5.0",
            "_view_count": null,
            "_view_module_version": "1.5.0",
            "box_style": "",
            "layout": "IPY_MODEL_6da97c9a96b4479a90a9f11501873d46",
            "_model_module": "@jupyter-widgets/controls",
            "children": [
              "IPY_MODEL_0cbca727b5844c0fa1452b1489b91dd3",
              "IPY_MODEL_00c5c7f8cc334e4ea07b503654c77910"
            ]
          }
        },
        "6da97c9a96b4479a90a9f11501873d46": {
          "model_module": "@jupyter-widgets/base",
          "model_name": "LayoutModel",
          "state": {
            "_view_name": "LayoutView",
            "grid_template_rows": null,
            "right": null,
            "justify_content": null,
            "_view_module": "@jupyter-widgets/base",
            "overflow": null,
            "_model_module_version": "1.2.0",
            "_view_count": null,
            "flex_flow": null,
            "width": null,
            "min_width": null,
            "border": null,
            "align_items": null,
            "bottom": null,
            "_model_module": "@jupyter-widgets/base",
            "top": null,
            "grid_column": null,
            "overflow_y": null,
            "overflow_x": null,
            "grid_auto_flow": null,
            "grid_area": null,
            "grid_template_columns": null,
            "flex": null,
            "_model_name": "LayoutModel",
            "justify_items": null,
            "grid_row": null,
            "max_height": null,
            "align_content": null,
            "visibility": null,
            "align_self": null,
            "height": null,
            "min_height": null,
            "padding": null,
            "grid_auto_rows": null,
            "grid_gap": null,
            "max_width": null,
            "order": null,
            "_view_module_version": "1.2.0",
            "grid_template_areas": null,
            "object_position": null,
            "object_fit": null,
            "grid_auto_columns": null,
            "margin": null,
            "display": null,
            "left": null
          }
        },
        "0cbca727b5844c0fa1452b1489b91dd3": {
          "model_module": "@jupyter-widgets/controls",
          "model_name": "FloatProgressModel",
          "state": {
            "_view_name": "ProgressView",
            "style": "IPY_MODEL_6a2e5b6733b6478385443adf4f708c5e",
            "_dom_classes": [],
            "description": "100%",
            "_model_name": "FloatProgressModel",
            "bar_style": "success",
            "max": 574673361,
            "_view_module": "@jupyter-widgets/controls",
            "_model_module_version": "1.5.0",
            "value": 574673361,
            "_view_count": null,
            "_view_module_version": "1.5.0",
            "orientation": "horizontal",
            "min": 0,
            "description_tooltip": null,
            "_model_module": "@jupyter-widgets/controls",
            "layout": "IPY_MODEL_ef92e4426ac149498036a3aba560ff2a"
          }
        },
        "00c5c7f8cc334e4ea07b503654c77910": {
          "model_module": "@jupyter-widgets/controls",
          "model_name": "HTMLModel",
          "state": {
            "_view_name": "HTMLView",
            "style": "IPY_MODEL_53396660b9af45bdaf999143f34312db",
            "_dom_classes": [],
            "description": "",
            "_model_name": "HTMLModel",
            "placeholder": "​",
            "_view_module": "@jupyter-widgets/controls",
            "_model_module_version": "1.5.0",
            "value": " 548M/548M [00:16&lt;00:00, 34.1MB/s]",
            "_view_count": null,
            "_view_module_version": "1.5.0",
            "description_tooltip": null,
            "_model_module": "@jupyter-widgets/controls",
            "layout": "IPY_MODEL_5173625e9cc5420aa44f37bc9136b413"
          }
        },
        "6a2e5b6733b6478385443adf4f708c5e": {
          "model_module": "@jupyter-widgets/controls",
          "model_name": "ProgressStyleModel",
          "state": {
            "_view_name": "StyleView",
            "_model_name": "ProgressStyleModel",
            "description_width": "initial",
            "_view_module": "@jupyter-widgets/base",
            "_model_module_version": "1.5.0",
            "_view_count": null,
            "_view_module_version": "1.2.0",
            "bar_color": null,
            "_model_module": "@jupyter-widgets/controls"
          }
        },
        "ef92e4426ac149498036a3aba560ff2a": {
          "model_module": "@jupyter-widgets/base",
          "model_name": "LayoutModel",
          "state": {
            "_view_name": "LayoutView",
            "grid_template_rows": null,
            "right": null,
            "justify_content": null,
            "_view_module": "@jupyter-widgets/base",
            "overflow": null,
            "_model_module_version": "1.2.0",
            "_view_count": null,
            "flex_flow": null,
            "width": null,
            "min_width": null,
            "border": null,
            "align_items": null,
            "bottom": null,
            "_model_module": "@jupyter-widgets/base",
            "top": null,
            "grid_column": null,
            "overflow_y": null,
            "overflow_x": null,
            "grid_auto_flow": null,
            "grid_area": null,
            "grid_template_columns": null,
            "flex": null,
            "_model_name": "LayoutModel",
            "justify_items": null,
            "grid_row": null,
            "max_height": null,
            "align_content": null,
            "visibility": null,
            "align_self": null,
            "height": null,
            "min_height": null,
            "padding": null,
            "grid_auto_rows": null,
            "grid_gap": null,
            "max_width": null,
            "order": null,
            "_view_module_version": "1.2.0",
            "grid_template_areas": null,
            "object_position": null,
            "object_fit": null,
            "grid_auto_columns": null,
            "margin": null,
            "display": null,
            "left": null
          }
        },
        "53396660b9af45bdaf999143f34312db": {
          "model_module": "@jupyter-widgets/controls",
          "model_name": "DescriptionStyleModel",
          "state": {
            "_view_name": "StyleView",
            "_model_name": "DescriptionStyleModel",
            "description_width": "",
            "_view_module": "@jupyter-widgets/base",
            "_model_module_version": "1.5.0",
            "_view_count": null,
            "_view_module_version": "1.2.0",
            "_model_module": "@jupyter-widgets/controls"
          }
        },
        "5173625e9cc5420aa44f37bc9136b413": {
          "model_module": "@jupyter-widgets/base",
          "model_name": "LayoutModel",
          "state": {
            "_view_name": "LayoutView",
            "grid_template_rows": null,
            "right": null,
            "justify_content": null,
            "_view_module": "@jupyter-widgets/base",
            "overflow": null,
            "_model_module_version": "1.2.0",
            "_view_count": null,
            "flex_flow": null,
            "width": null,
            "min_width": null,
            "border": null,
            "align_items": null,
            "bottom": null,
            "_model_module": "@jupyter-widgets/base",
            "top": null,
            "grid_column": null,
            "overflow_y": null,
            "overflow_x": null,
            "grid_auto_flow": null,
            "grid_area": null,
            "grid_template_columns": null,
            "flex": null,
            "_model_name": "LayoutModel",
            "justify_items": null,
            "grid_row": null,
            "max_height": null,
            "align_content": null,
            "visibility": null,
            "align_self": null,
            "height": null,
            "min_height": null,
            "padding": null,
            "grid_auto_rows": null,
            "grid_gap": null,
            "max_width": null,
            "order": null,
            "_view_module_version": "1.2.0",
            "grid_template_areas": null,
            "object_position": null,
            "object_fit": null,
            "grid_auto_columns": null,
            "margin": null,
            "display": null,
            "left": null
          }
        },
        "d2943acd7c7b482e8d903d048757586d": {
          "model_module": "@jupyter-widgets/controls",
          "model_name": "HBoxModel",
          "state": {
            "_view_name": "HBoxView",
            "_dom_classes": [],
            "_model_name": "HBoxModel",
            "_view_module": "@jupyter-widgets/controls",
            "_model_module_version": "1.5.0",
            "_view_count": null,
            "_view_module_version": "1.5.0",
            "box_style": "",
            "layout": "IPY_MODEL_5acc84c3f6d4495c8b493939d7556c78",
            "_model_module": "@jupyter-widgets/controls",
            "children": [
              "IPY_MODEL_31710a259d8f44fdaaab56ae1b3a74c2",
              "IPY_MODEL_77dece06ac194f1484d38124ef1aa9ca"
            ]
          }
        },
        "5acc84c3f6d4495c8b493939d7556c78": {
          "model_module": "@jupyter-widgets/base",
          "model_name": "LayoutModel",
          "state": {
            "_view_name": "LayoutView",
            "grid_template_rows": null,
            "right": null,
            "justify_content": null,
            "_view_module": "@jupyter-widgets/base",
            "overflow": null,
            "_model_module_version": "1.2.0",
            "_view_count": null,
            "flex_flow": null,
            "width": null,
            "min_width": null,
            "border": null,
            "align_items": null,
            "bottom": null,
            "_model_module": "@jupyter-widgets/base",
            "top": null,
            "grid_column": null,
            "overflow_y": null,
            "overflow_x": null,
            "grid_auto_flow": null,
            "grid_area": null,
            "grid_template_columns": null,
            "flex": null,
            "_model_name": "LayoutModel",
            "justify_items": null,
            "grid_row": null,
            "max_height": null,
            "align_content": null,
            "visibility": null,
            "align_self": null,
            "height": null,
            "min_height": null,
            "padding": null,
            "grid_auto_rows": null,
            "grid_gap": null,
            "max_width": null,
            "order": null,
            "_view_module_version": "1.2.0",
            "grid_template_areas": null,
            "object_position": null,
            "object_fit": null,
            "grid_auto_columns": null,
            "margin": null,
            "display": null,
            "left": null
          }
        },
        "31710a259d8f44fdaaab56ae1b3a74c2": {
          "model_module": "@jupyter-widgets/controls",
          "model_name": "FloatProgressModel",
          "state": {
            "_view_name": "ProgressView",
            "style": "IPY_MODEL_facbec0b15e945c19447d8fe4c8cd21b",
            "_dom_classes": [],
            "description": "loss: 0.1258: 100%",
            "_model_name": "FloatProgressModel",
            "bar_style": "success",
            "max": 1000,
            "_view_module": "@jupyter-widgets/controls",
            "_model_module_version": "1.5.0",
            "value": 1000,
            "_view_count": null,
            "_view_module_version": "1.5.0",
            "orientation": "horizontal",
            "min": 0,
            "description_tooltip": null,
            "_model_module": "@jupyter-widgets/controls",
            "layout": "IPY_MODEL_22b55b281cea4fe6841a6276c77856ab"
          }
        },
        "77dece06ac194f1484d38124ef1aa9ca": {
          "model_module": "@jupyter-widgets/controls",
          "model_name": "HTMLModel",
          "state": {
            "_view_name": "HTMLView",
            "style": "IPY_MODEL_30d205eca5df4fcfa70038840cef2289",
            "_dom_classes": [],
            "description": "",
            "_model_name": "HTMLModel",
            "placeholder": "​",
            "_view_module": "@jupyter-widgets/controls",
            "_model_module_version": "1.5.0",
            "value": " 1000/1000 [01:14&lt;00:00, 13.46it/s]",
            "_view_count": null,
            "_view_module_version": "1.5.0",
            "description_tooltip": null,
            "_model_module": "@jupyter-widgets/controls",
            "layout": "IPY_MODEL_8a88024b8e034b98b68884813a84cf41"
          }
        },
        "facbec0b15e945c19447d8fe4c8cd21b": {
          "model_module": "@jupyter-widgets/controls",
          "model_name": "ProgressStyleModel",
          "state": {
            "_view_name": "StyleView",
            "_model_name": "ProgressStyleModel",
            "description_width": "initial",
            "_view_module": "@jupyter-widgets/base",
            "_model_module_version": "1.5.0",
            "_view_count": null,
            "_view_module_version": "1.2.0",
            "bar_color": null,
            "_model_module": "@jupyter-widgets/controls"
          }
        },
        "22b55b281cea4fe6841a6276c77856ab": {
          "model_module": "@jupyter-widgets/base",
          "model_name": "LayoutModel",
          "state": {
            "_view_name": "LayoutView",
            "grid_template_rows": null,
            "right": null,
            "justify_content": null,
            "_view_module": "@jupyter-widgets/base",
            "overflow": null,
            "_model_module_version": "1.2.0",
            "_view_count": null,
            "flex_flow": null,
            "width": null,
            "min_width": null,
            "border": null,
            "align_items": null,
            "bottom": null,
            "_model_module": "@jupyter-widgets/base",
            "top": null,
            "grid_column": null,
            "overflow_y": null,
            "overflow_x": null,
            "grid_auto_flow": null,
            "grid_area": null,
            "grid_template_columns": null,
            "flex": null,
            "_model_name": "LayoutModel",
            "justify_items": null,
            "grid_row": null,
            "max_height": null,
            "align_content": null,
            "visibility": null,
            "align_self": null,
            "height": null,
            "min_height": null,
            "padding": null,
            "grid_auto_rows": null,
            "grid_gap": null,
            "max_width": null,
            "order": null,
            "_view_module_version": "1.2.0",
            "grid_template_areas": null,
            "object_position": null,
            "object_fit": null,
            "grid_auto_columns": null,
            "margin": null,
            "display": null,
            "left": null
          }
        },
        "30d205eca5df4fcfa70038840cef2289": {
          "model_module": "@jupyter-widgets/controls",
          "model_name": "DescriptionStyleModel",
          "state": {
            "_view_name": "StyleView",
            "_model_name": "DescriptionStyleModel",
            "description_width": "",
            "_view_module": "@jupyter-widgets/base",
            "_model_module_version": "1.5.0",
            "_view_count": null,
            "_view_module_version": "1.2.0",
            "_model_module": "@jupyter-widgets/controls"
          }
        },
        "8a88024b8e034b98b68884813a84cf41": {
          "model_module": "@jupyter-widgets/base",
          "model_name": "LayoutModel",
          "state": {
            "_view_name": "LayoutView",
            "grid_template_rows": null,
            "right": null,
            "justify_content": null,
            "_view_module": "@jupyter-widgets/base",
            "overflow": null,
            "_model_module_version": "1.2.0",
            "_view_count": null,
            "flex_flow": null,
            "width": null,
            "min_width": null,
            "border": null,
            "align_items": null,
            "bottom": null,
            "_model_module": "@jupyter-widgets/base",
            "top": null,
            "grid_column": null,
            "overflow_y": null,
            "overflow_x": null,
            "grid_auto_flow": null,
            "grid_area": null,
            "grid_template_columns": null,
            "flex": null,
            "_model_name": "LayoutModel",
            "justify_items": null,
            "grid_row": null,
            "max_height": null,
            "align_content": null,
            "visibility": null,
            "align_self": null,
            "height": null,
            "min_height": null,
            "padding": null,
            "grid_auto_rows": null,
            "grid_gap": null,
            "max_width": null,
            "order": null,
            "_view_module_version": "1.2.0",
            "grid_template_areas": null,
            "object_position": null,
            "object_fit": null,
            "grid_auto_columns": null,
            "margin": null,
            "display": null,
            "left": null
          }
        }
      }
    }
  },
  "cells": [
    {
      "cell_type": "markdown",
      "metadata": {
        "id": "lOF3Feb7jrnu"
      },
      "source": [
        "# Download and Install CLIP Dependencies"
      ]
    },
    {
      "cell_type": "code",
      "metadata": {
        "colab": {
          "base_uri": "https://localhost:8080/"
        },
        "id": "FyUIWjzOi23X",
        "outputId": "2ea7e618-6f88-4029-e5c7-eb9f4736337b"
      },
      "source": [
        "# installing some dependencies, CLIP was released in PyTorch (thanks to Roboflow's tutorial for the setup template!)\n",
        "import subprocess\n",
        "\n",
        "CUDA_version = [s for s in subprocess.check_output([\"nvcc\", \"--version\"]).decode(\"UTF-8\").split(\", \") if s.startswith(\"release\")][0].split(\" \")[-1]\n",
        "print(\"CUDA version:\", CUDA_version)\n",
        "\n",
        "if CUDA_version == \"10.0\":\n",
        "    torch_version_suffix = \"+cu100\"\n",
        "elif CUDA_version == \"10.1\":\n",
        "    torch_version_suffix = \"+cu101\"\n",
        "elif CUDA_version == \"10.2\":\n",
        "    torch_version_suffix = \"\"\n",
        "else:\n",
        "    torch_version_suffix = \"+cu110\"\n",
        "\n",
        "!pip install torch==1.7.1{torch_version_suffix} torchvision==0.8.2{torch_version_suffix} -f https://download.pytorch.org/whl/torch_stable.html ftfy regex\n",
        "\n",
        "import numpy as np\n",
        "import torch\n",
        "\n",
        "print(\"Torch version:\", torch.__version__)\n",
        "\n",
        "# install clip\n",
        "!pip install git+https://github.com/openai/CLIP.git"
      ],
      "execution_count": 1,
      "outputs": [
        {
          "output_type": "stream",
          "text": [
            "CUDA version: 11.0\n",
            "Looking in links: https://download.pytorch.org/whl/torch_stable.html\n",
            "Collecting torch==1.7.1+cu110\n",
            "\u001b[?25l  Downloading https://download.pytorch.org/whl/cu110/torch-1.7.1%2Bcu110-cp37-cp37m-linux_x86_64.whl (1156.8MB)\n",
            "\u001b[K     |███████████████████████         | 834.1MB 1.2MB/s eta 0:04:26tcmalloc: large alloc 1147494400 bytes == 0x562e228da000 @  0x7f93f2d5a615 0x562de922106c 0x562de9300eba 0x562de9223e8d 0x562de931599d 0x562de9297fe9 0x562de9292b0e 0x562de922577a 0x562de9297e50 0x562de9292b0e 0x562de922577a 0x562de929486a 0x562de93167c6 0x562de9293ee2 0x562de93167c6 0x562de9293ee2 0x562de93167c6 0x562de9293ee2 0x562de93167c6 0x562de9398431 0x562de92f9049 0x562de9263c84 0x562de92248e9 0x562de9298ade 0x562de922569a 0x562de9293a45 0x562de9292e0d 0x562de922577a 0x562de9293a45 0x562de922569a 0x562de9293a45\n",
            "\u001b[K     |█████████████████████████████▏  | 1055.7MB 1.2MB/s eta 0:01:26tcmalloc: large alloc 1434370048 bytes == 0x562e66f30000 @  0x7f93f2d5a615 0x562de922106c 0x562de9300eba 0x562de9223e8d 0x562de931599d 0x562de9297fe9 0x562de9292b0e 0x562de922577a 0x562de9297e50 0x562de9292b0e 0x562de922577a 0x562de929486a 0x562de93167c6 0x562de9293ee2 0x562de93167c6 0x562de9293ee2 0x562de93167c6 0x562de9293ee2 0x562de93167c6 0x562de9398431 0x562de92f9049 0x562de9263c84 0x562de92248e9 0x562de9298ade 0x562de922569a 0x562de9293a45 0x562de9292e0d 0x562de922577a 0x562de9293a45 0x562de922569a 0x562de9293a45\n",
            "\u001b[K     |████████████████████████████████| 1156.7MB 1.2MB/s eta 0:00:01tcmalloc: large alloc 1445945344 bytes == 0x562ebc71c000 @  0x7f93f2d5a615 0x562de922106c 0x562de9300eba 0x562de9223e8d 0x562de931599d 0x562de9297fe9 0x562de9292b0e 0x562de922577a 0x562de9293c9e 0x562de9292b0e 0x562de922577a 0x562de9293c9e 0x562de9292b0e 0x562de922577a 0x562de9293c9e 0x562de9292b0e 0x562de922577a 0x562de9293c9e 0x562de9292b0e 0x562de922577a 0x562de9293c9e 0x562de922569a 0x562de9293c9e 0x562de9292b0e 0x562de922577a 0x562de929486a 0x562de9292b0e 0x562de922577a 0x562de929486a 0x562de9292b0e 0x562de9225e11\n",
            "\u001b[K     |████████████████████████████████| 1156.8MB 16kB/s \n",
            "\u001b[?25hCollecting torchvision==0.8.2+cu110\n",
            "\u001b[?25l  Downloading https://download.pytorch.org/whl/cu110/torchvision-0.8.2%2Bcu110-cp37-cp37m-linux_x86_64.whl (12.9MB)\n",
            "\u001b[K     |████████████████████████████████| 12.9MB 205kB/s \n",
            "\u001b[?25hCollecting ftfy\n",
            "\u001b[?25l  Downloading https://files.pythonhosted.org/packages/04/06/e5c80e2e0f979628d47345efba51f7ba386fe95963b11c594209085f5a9b/ftfy-5.9.tar.gz (66kB)\n",
            "\u001b[K     |████████████████████████████████| 71kB 5.7MB/s \n",
            "\u001b[?25hRequirement already satisfied: regex in /usr/local/lib/python3.7/dist-packages (2019.12.20)\n",
            "Requirement already satisfied: numpy in /usr/local/lib/python3.7/dist-packages (from torch==1.7.1+cu110) (1.19.5)\n",
            "Requirement already satisfied: typing-extensions in /usr/local/lib/python3.7/dist-packages (from torch==1.7.1+cu110) (3.7.4.3)\n",
            "Requirement already satisfied: pillow>=4.1.1 in /usr/local/lib/python3.7/dist-packages (from torchvision==0.8.2+cu110) (7.0.0)\n",
            "Requirement already satisfied: wcwidth in /usr/local/lib/python3.7/dist-packages (from ftfy) (0.2.5)\n",
            "Building wheels for collected packages: ftfy\n",
            "  Building wheel for ftfy (setup.py) ... \u001b[?25l\u001b[?25hdone\n",
            "  Created wheel for ftfy: filename=ftfy-5.9-cp37-none-any.whl size=46451 sha256=2bac3679a0934741d4cf11f9be9888b7e41c3eaedee3bd2b5f9f3f0855ec61fc\n",
            "  Stored in directory: /root/.cache/pip/wheels/5e/2e/f0/b07196e8c929114998f0316894a61c752b63bfa3fdd50d2fc3\n",
            "Successfully built ftfy\n",
            "Installing collected packages: torch, torchvision, ftfy\n",
            "  Found existing installation: torch 1.7.1+cu101\n",
            "    Uninstalling torch-1.7.1+cu101:\n",
            "      Successfully uninstalled torch-1.7.1+cu101\n",
            "  Found existing installation: torchvision 0.8.2+cu101\n",
            "    Uninstalling torchvision-0.8.2+cu101:\n",
            "      Successfully uninstalled torchvision-0.8.2+cu101\n",
            "Successfully installed ftfy-5.9 torch-1.7.1+cu110 torchvision-0.8.2+cu110\n",
            "Torch version: 1.7.1+cu110\n",
            "Collecting git+https://github.com/openai/CLIP.git\n",
            "  Cloning https://github.com/openai/CLIP.git to /tmp/pip-req-build-wy_6jniq\n",
            "  Running command git clone -q https://github.com/openai/CLIP.git /tmp/pip-req-build-wy_6jniq\n",
            "Requirement already satisfied: ftfy in /usr/local/lib/python3.7/dist-packages (from clip==1.0) (5.9)\n",
            "Requirement already satisfied: regex in /usr/local/lib/python3.7/dist-packages (from clip==1.0) (2019.12.20)\n",
            "Requirement already satisfied: tqdm in /usr/local/lib/python3.7/dist-packages (from clip==1.0) (4.41.1)\n",
            "Requirement already satisfied: torch~=1.7.1 in /usr/local/lib/python3.7/dist-packages (from clip==1.0) (1.7.1+cu110)\n",
            "Requirement already satisfied: torchvision~=0.8.2 in /usr/local/lib/python3.7/dist-packages (from clip==1.0) (0.8.2+cu110)\n",
            "Requirement already satisfied: wcwidth in /usr/local/lib/python3.7/dist-packages (from ftfy->clip==1.0) (0.2.5)\n",
            "Requirement already satisfied: numpy in /usr/local/lib/python3.7/dist-packages (from torch~=1.7.1->clip==1.0) (1.19.5)\n",
            "Requirement already satisfied: typing-extensions in /usr/local/lib/python3.7/dist-packages (from torch~=1.7.1->clip==1.0) (3.7.4.3)\n",
            "Requirement already satisfied: pillow>=4.1.1 in /usr/local/lib/python3.7/dist-packages (from torchvision~=0.8.2->clip==1.0) (7.0.0)\n",
            "Building wheels for collected packages: clip\n",
            "  Building wheel for clip (setup.py) ... \u001b[?25l\u001b[?25hdone\n",
            "  Created wheel for clip: filename=clip-1.0-cp37-none-any.whl size=1368688 sha256=4071bdee0869217e0ff189ed8b82c81be274936438b21cfd924660a7d0ccaa01\n",
            "  Stored in directory: /tmp/pip-ephem-wheel-cache-_lmm1fv7/wheels/79/51/d7/69f91d37121befe21d9c52332e04f592e17d1cabc7319b3e09\n",
            "Successfully built clip\n",
            "Installing collected packages: clip\n",
            "Successfully installed clip-1.0\n"
          ],
          "name": "stdout"
        }
      ]
    },
    {
      "cell_type": "markdown",
      "metadata": {
        "id": "4VQgIVsFWOxe"
      },
      "source": [
        "# Begin Our Style Transfer"
      ]
    },
    {
      "cell_type": "markdown",
      "metadata": {
        "id": "Hhw1l1y51ASB"
      },
      "source": [
        "## Import Necessities and Setup Models"
      ]
    },
    {
      "cell_type": "code",
      "metadata": {
        "id": "Xr9fVQZkw33b",
        "colab": {
          "base_uri": "https://localhost:8080/"
        },
        "outputId": "e52ebb11-9788-46df-d8f2-c29fcbd9ad61"
      },
      "source": [
        "import clip\r\n",
        "import matplotlib.pyplot as plt\r\n",
        "from torchvision import transforms\r\n",
        "from torchvision.models import vgg19\r\n",
        "from torch.optim import Adam\r\n",
        "from PIL import Image\r\n",
        "from tqdm.notebook import tqdm\r\n",
        "from moviepy.editor import ImageSequenceClip"
      ],
      "execution_count": 2,
      "outputs": [
        {
          "output_type": "stream",
          "text": [
            "Imageio: 'ffmpeg-linux64-v3.3.1' was not found on your computer; downloading it now.\n",
            "Try 1. Download from https://github.com/imageio/imageio-binaries/raw/master/ffmpeg/ffmpeg-linux64-v3.3.1 (43.8 MB)\n",
            "Downloading: 8192/45929032 bytes (0.0%)\b\b\b\b\b\b\b\b\b\b\b\b\b\b\b\b\b\b\b\b\b\b\b\b\b\b3579904/45929032 bytes (7.8%)\b\b\b\b\b\b\b\b\b\b\b\b\b\b\b\b\b\b\b\b\b\b\b\b\b\b\b\b\b7569408/45929032 bytes (16.5%)\b\b\b\b\b\b\b\b\b\b\b\b\b\b\b\b\b\b\b\b\b\b\b\b\b\b\b\b\b\b11649024/45929032 bytes (25.4%)\b\b\b\b\b\b\b\b\b\b\b\b\b\b\b\b\b\b\b\b\b\b\b\b\b\b\b\b\b\b\b15646720/45929032 bytes (34.1%)\b\b\b\b\b\b\b\b\b\b\b\b\b\b\b\b\b\b\b\b\b\b\b\b\b\b\b\b\b\b\b19521536/45929032 bytes (42.5%)\b\b\b\b\b\b\b\b\b\b\b\b\b\b\b\b\b\b\b\b\b\b\b\b\b\b\b\b\b\b\b23519232/45929032 bytes (51.2%)\b\b\b\b\b\b\b\b\b\b\b\b\b\b\b\b\b\b\b\b\b\b\b\b\b\b\b\b\b\b\b27516928/45929032 bytes (59.9%)\b\b\b\b\b\b\b\b\b\b\b\b\b\b\b\b\b\b\b\b\b\b\b\b\b\b\b\b\b\b\b31481856/45929032 bytes (68.5%)\b\b\b\b\b\b\b\b\b\b\b\b\b\b\b\b\b\b\b\b\b\b\b\b\b\b\b\b\b\b\b35586048/45929032 bytes (77.5%)\b\b\b\b\b\b\b\b\b\b\b\b\b\b\b\b\b\b\b\b\b\b\b\b\b\b\b\b\b\b\b39682048/45929032 bytes (86.4%)\b\b\b\b\b\b\b\b\b\b\b\b\b\b\b\b\b\b\b\b\b\b\b\b\b\b\b\b\b\b\b44023808/45929032 bytes (95.9%)\b\b\b\b\b\b\b\b\b\b\b\b\b\b\b\b\b\b\b\b\b\b\b\b\b\b\b\b\b\b\b45929032/45929032 bytes (100.0%)\n",
            "  Done\n",
            "File saved as /root/.imageio/ffmpeg/ffmpeg-linux64-v3.3.1.\n"
          ],
          "name": "stdout"
        }
      ]
    },
    {
      "cell_type": "code",
      "metadata": {
        "id": "dMDTEdFgxEcH",
        "colab": {
          "base_uri": "https://localhost:8080/",
          "height": 103,
          "referenced_widgets": [
            "97de81d374ec4c9d9aa2bb1d8f5e02af",
            "6da97c9a96b4479a90a9f11501873d46",
            "0cbca727b5844c0fa1452b1489b91dd3",
            "00c5c7f8cc334e4ea07b503654c77910",
            "6a2e5b6733b6478385443adf4f708c5e",
            "ef92e4426ac149498036a3aba560ff2a",
            "53396660b9af45bdaf999143f34312db",
            "5173625e9cc5420aa44f37bc9136b413"
          ]
        },
        "outputId": "3c9c22c8-144b-4b00-9429-72eb53c3711c"
      },
      "source": [
        "device = \"cuda\" if torch.cuda.is_available() else \"cpu\"\r\n",
        "vgg = vgg19(pretrained=True).to(device)"
      ],
      "execution_count": 3,
      "outputs": [
        {
          "output_type": "stream",
          "text": [
            "Downloading: \"https://download.pytorch.org/models/vgg19-dcbb9e9d.pth\" to /root/.cache/torch/hub/checkpoints/vgg19-dcbb9e9d.pth\n"
          ],
          "name": "stderr"
        },
        {
          "output_type": "display_data",
          "data": {
            "application/vnd.jupyter.widget-view+json": {
              "model_id": "97de81d374ec4c9d9aa2bb1d8f5e02af",
              "version_minor": 0,
              "version_major": 2
            },
            "text/plain": [
              "HBox(children=(FloatProgress(value=0.0, max=574673361.0), HTML(value='')))"
            ]
          },
          "metadata": {
            "tags": []
          }
        },
        {
          "output_type": "stream",
          "text": [
            "\n"
          ],
          "name": "stdout"
        }
      ]
    },
    {
      "cell_type": "code",
      "metadata": {
        "colab": {
          "base_uri": "https://localhost:8080/"
        },
        "id": "kSoSLp_OxRny",
        "outputId": "b3bc5659-3970-4b2e-c71c-586dfe8852c6"
      },
      "source": [
        "class Hook:\r\n",
        "  def __init__(self):\r\n",
        "    self.input = None\r\n",
        "    self.output = None\r\n",
        "  \r\n",
        "  def hook_fn(self, module, input, output):\r\n",
        "    self.input = input\r\n",
        "    self.output = output\r\n",
        "\r\n",
        "vgg_hook = Hook()\r\n",
        "\r\n",
        "vgg.features[19].register_forward_hook(vgg_hook.hook_fn)"
      ],
      "execution_count": 4,
      "outputs": [
        {
          "output_type": "execute_result",
          "data": {
            "text/plain": [
              "<torch.utils.hooks.RemovableHandle at 0x7f8076fdb410>"
            ]
          },
          "metadata": {
            "tags": []
          },
          "execution_count": 4
        }
      ]
    },
    {
      "cell_type": "code",
      "metadata": {
        "id": "yAi7cvucnFPr",
        "colab": {
          "base_uri": "https://localhost:8080/"
        },
        "outputId": "dda69cb3-350d-42aa-d400-c272e5336c9d"
      },
      "source": [
        "model, clip_transforms = clip.load(\"ViT-B/32\", device=device)"
      ],
      "execution_count": 5,
      "outputs": [
        {
          "output_type": "stream",
          "text": [
            "100%|███████████████████████████████████████| 354M/354M [00:05<00:00, 67.2MiB/s]\n"
          ],
          "name": "stderr"
        }
      ]
    },
    {
      "cell_type": "code",
      "metadata": {
        "id": "beM5N-2iudEk"
      },
      "source": [
        "universal_transforms = transforms.Compose([\r\n",
        "  transforms.Resize(224),\r\n",
        "  transforms.CenterCrop(224),\r\n",
        "  transforms.ToTensor()\r\n",
        "])\r\n",
        "vgg_transforms = transforms.Normalize(mean=[0.485, 0.456, 0.406], std=[0.229, 0.224, 0.225])\r\n",
        "clip_transforms = transforms.Normalize(mean=[0.48145466, 0.4578275, 0.40821073], std=[0.26862954, 0.26130258, 0.27577711])"
      ],
      "execution_count": 6,
      "outputs": []
    },
    {
      "cell_type": "markdown",
      "metadata": {
        "id": "AoMpkZv_4Dfl"
      },
      "source": [
        "## Define our Image and begin Tuning"
      ]
    },
    {
      "cell_type": "code",
      "metadata": {
        "colab": {
          "base_uri": "https://localhost:8080/"
        },
        "id": "HQMg_MUtfA7i",
        "outputId": "dc296a5a-11d9-4369-cb07-3fc69d59472d"
      },
      "source": [
        "# No image in mind? Here's some to get started!\r\n",
        "!wget -O portrait.jpg https://images.unsplash.com/photo-1519895609939-d2a6491c1196?ixid=MXwxMjA3fDB8MHxwaG90by1wYWdlfHx8fGVufDB8fHw%3D&ixlib=rb-1.2.1&auto=format&fit=crop&w=634&q=80\r\n",
        "!wget -O house.jpg https://images.unsplash.com/photo-1523217582562-09d0def993a6?ixid=MXwxMjA3fDB8MHxwaG90by1wYWdlfHx8fGVufDB8fHw%3D&ixlib=rb-1.2.1&auto=format&fit=crop&w=800&q=80 "
      ],
      "execution_count": 7,
      "outputs": [
        {
          "output_type": "stream",
          "text": [
            "--2021-03-08 14:32:21--  https://images.unsplash.com/photo-1519895609939-d2a6491c1196?ixid=MXwxMjA3fDB8MHxwaG90by1wYWdlfHx8fGVufDB8fHw%3D\n",
            "Resolving images.unsplash.com (images.unsplash.com)... 199.232.66.208, 2a04:4e42:50::720\n",
            "Connecting to images.unsplash.com (images.unsplash.com)|199.232.66.208|:443... connected.\n",
            "HTTP request sent, awaiting response... 200 OK\n",
            "Length: 3467392 (3.3M) [image/jpeg]\n",
            "Saving to: ‘portrait.jpg’\n",
            "\n",
            "\rportrait.jpg          0%[                    ]       0  --.-KB/s               \rportrait.jpg        100%[===================>]   3.31M  --.-KB/s    in 0.04s   \n",
            "\n",
            "2021-03-08 14:32:21 (77.9 MB/s) - ‘portrait.jpg’ saved [3467392/3467392]\n",
            "\n",
            "--2021-03-08 14:32:21--  https://images.unsplash.com/photo-1523217582562-09d0def993a6?ixid=MXwxMjA3fDB8MHxwaG90by1wYWdlfHx8fGVufDB8fHw%3D\n",
            "Resolving images.unsplash.com (images.unsplash.com)... 199.232.66.208, 2a04:4e42:50::720\n",
            "Connecting to images.unsplash.com (images.unsplash.com)|199.232.66.208|:443... connected.\n",
            "HTTP request sent, awaiting response... 200 OK\n",
            "Length: 2961781 (2.8M) [image/jpeg]\n",
            "Saving to: ‘house.jpg’\n",
            "\n",
            "house.jpg           100%[===================>]   2.82M  --.-KB/s    in 0.04s   \n",
            "\n",
            "2021-03-08 14:32:21 (71.5 MB/s) - ‘house.jpg’ saved [2961781/2961781]\n",
            "\n"
          ],
          "name": "stdout"
        }
      ]
    },
    {
      "cell_type": "code",
      "metadata": {
        "colab": {
          "base_uri": "https://localhost:8080/",
          "height": 505,
          "referenced_widgets": [
            "d2943acd7c7b482e8d903d048757586d",
            "5acc84c3f6d4495c8b493939d7556c78",
            "31710a259d8f44fdaaab56ae1b3a74c2",
            "77dece06ac194f1484d38124ef1aa9ca",
            "facbec0b15e945c19447d8fe4c8cd21b",
            "22b55b281cea4fe6841a6276c77856ab",
            "30d205eca5df4fcfa70038840cef2289",
            "8a88024b8e034b98b68884813a84cf41"
          ]
        },
        "cellView": "form",
        "id": "grqAsDxQrgIh",
        "outputId": "20f2d6c2-0e0b-445f-89c9-e4b70f75508c"
      },
      "source": [
        "image_path = \"portrait.jpg\" #@param {type:\"string\"}\n",
        "clip_input = \"a leonardo da vinci mona lisa style painting\" #@param {type:\"string\"}\n",
        "optim_iterations = 1000 #@param {type:\"integer\"}\n",
        "log_content_lambda = -2 #@param {type:\"slider\", min:-4, max:4, step:0.5}\n",
        "log_tv_lambda = 3 #@param {type:\"slider\", min:-4, max:4, step:0.5}\n",
        "log_lr = -1 #@param{type:\"slider\", min:-4, max:4, step:0.5}\n",
        "vgg_content_loss = True #@param{type:\"boolean\"}\n",
        "lambda_val = 10**log_content_lambda\n",
        "lambda_tv = 10**log_tv_lambda\n",
        "lr = 10**log_lr\n",
        "\n",
        "criterion = [clip_input]\n",
        "\n",
        "text = clip.tokenize(criterion).to(device)\n",
        "\n",
        "def show_pt_image(img, epoch=None):\n",
        "  img = img.squeeze().cpu().detach().permute(1,2,0).numpy().clip(0,1)\n",
        "  if isinstance(epoch, int):\n",
        "    plt.imsave('sample{}.jpg'.format(epoch), img)\n",
        "  else:\n",
        "    plt.imshow(img)\n",
        "\n",
        "starting_img = universal_transforms(Image.open(image_path)).to(device)\n",
        "modified_img = starting_img.detach().clone().requires_grad_()\n",
        "show_pt_image(starting_img)\n",
        "\n",
        "# define content goal\n",
        "with torch.no_grad():\n",
        "  vgg(vgg_transforms(starting_img).unsqueeze(0))\n",
        "goal_conv4_1 = vgg_hook.output\n",
        "\n",
        "optim = Adam([modified_img], lr=lr)\n",
        "\n",
        "# optimize\n",
        "pbar = tqdm(range(optim_iterations))\n",
        "for i in pbar:\n",
        "  # content loss\n",
        "  if vgg_content_loss:\n",
        "    vgg(vgg_transforms(modified_img).unsqueeze(0))\n",
        "    loss = torch.square(goal_conv4_1 - vgg_hook.output).mean() * lambda_val\n",
        "  else:\n",
        "    loss = torch.square(modified_img-starting_img).mean() * lambda_val\n",
        "  # TV loss\n",
        "  a = torch.square(\n",
        "      modified_img[:, :223, :223] - modified_img[:, 1:, :223]\n",
        "  )\n",
        "  b = torch.square(\n",
        "      modified_img[:, :223, :223] - modified_img[:, :223, 1:]\n",
        "  )\n",
        "  loss += torch.pow(a+b, 1.25).mean() * lambda_tv\n",
        "  # clip loss\n",
        "  loss += 1 - model(clip_transforms(modified_img).unsqueeze(0), text)[0].sum()/100\n",
        "  optim.zero_grad()\n",
        "  loss.backward()\n",
        "  optim.step()\n",
        "  pbar.set_description(\"loss: {:.4f}\".format(loss.item()))\n",
        "  if i % 100 == 0 or i == optim_iterations-1:\n",
        "    print(i, loss.item())\n",
        "    show_pt_image(modified_img, epoch=i)"
      ],
      "execution_count": 14,
      "outputs": [
        {
          "output_type": "display_data",
          "data": {
            "application/vnd.jupyter.widget-view+json": {
              "model_id": "d2943acd7c7b482e8d903d048757586d",
              "version_minor": 0,
              "version_major": 2
            },
            "text/plain": [
              "HBox(children=(FloatProgress(value=0.0, max=1000.0), HTML(value='')))"
            ]
          },
          "metadata": {
            "tags": []
          }
        },
        {
          "output_type": "stream",
          "text": [
            "0 0.7986097931861877\n",
            "100 0.32166463136672974\n",
            "200 0.2804166376590729\n",
            "300 0.24821969866752625\n",
            "400 0.20961950719356537\n",
            "500 0.18228378891944885\n",
            "600 0.16855153441429138\n",
            "700 0.17893734574317932\n",
            "800 0.1378510296344757\n",
            "900 0.16819798946380615\n",
            "999 0.1257687360048294\n",
            "\n"
          ],
          "name": "stdout"
        },
        {
          "output_type": "display_data",
          "data": {
            "image/png": "[encoded data removed]",
            "text/plain": [
              "<Figure size 432x288 with 1 Axes>"
            ]
          },
          "metadata": {
            "tags": [],
            "needs_background": "light"
          }
        }
      ]
    },
    {
      "cell_type": "code",
      "metadata": {
        "colab": {
          "base_uri": "https://localhost:8080/"
        },
        "id": "8fiVsO-Mr0M2",
        "outputId": "e68ed20d-9be3-4efa-a08c-10c3f471f0fb"
      },
      "source": [
        "# make a gif from your results (we don't use step 0 and opt for the source image)\r\n",
        "ims =  ['sample{}00.jpg'.format(i) for i in range(1,10)] + ['sample999.jpg']\r\n",
        "im_arr = [universal_transforms(Image.open(image_path)).permute(1,2,0).numpy()*255] + [plt.imread(im) for im in ims]\r\n",
        "ImageSequenceClip(im_arr, fps=8).write_gif('portrait.gif')"
      ],
      "execution_count": 15,
      "outputs": [
        {
          "output_type": "stream",
          "text": [
            "\n",
            "[MoviePy] Building file portrait.gif with imageio\n"
          ],
          "name": "stdout"
        },
        {
          "output_type": "stream",
          "text": [
            " 92%|█████████▏| 11/12 [00:01<00:00,  9.93it/s]\n"
          ],
          "name": "stderr"
        }
      ]
    },
    {
      "cell_type": "code",
      "metadata": {
        "id": "Ka8BTjUrEEQy"
      },
      "source": [
        ""
      ],
      "execution_count": null,
      "outputs": []
    }
  ]
}